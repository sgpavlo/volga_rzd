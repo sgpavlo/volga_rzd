{
 "cells": [
  {
   "cell_type": "code",
   "execution_count": 1,
   "metadata": {},
   "outputs": [],
   "source": [
    "import json\n",
    "import requests\n",
    "import numpy as np\n",
    "import pandas as pd\n",
    "from bs4 import BeautifulSoup"
   ]
  },
  {
   "cell_type": "code",
   "execution_count": 2,
   "metadata": {},
   "outputs": [],
   "source": [
    "API_KEY = \"a5b0b768-1a25-447d-a242-01a6495c1831\""
   ]
  },
  {
   "cell_type": "code",
   "execution_count": 3,
   "metadata": {},
   "outputs": [],
   "source": [
    "request_txt = f\"https://api.rasp.yandex.net/v3.0/stations_list/?apikey={API_KEY}&lang=ru_RU&format=json\"\n",
    "getpage= requests.get(request_txt)\n",
    "getpage_soup= BeautifulSoup(getpage.text, 'html.parser')"
   ]
  },
  {
   "cell_type": "code",
   "execution_count": 4,
   "metadata": {},
   "outputs": [
    {
     "data": {
      "text/plain": [
       "dict_keys(['countries'])"
      ]
     },
     "execution_count": 4,
     "metadata": {},
     "output_type": "execute_result"
    }
   ],
   "source": [
    "s = json.loads(str(getpage_soup))\n",
    "s.keys()"
   ]
  },
  {
   "cell_type": "code",
   "execution_count": null,
   "metadata": {},
   "outputs": [],
   "source": [
    "s['countries']"
   ]
  },
  {
   "cell_type": "code",
   "execution_count": null,
   "metadata": {},
   "outputs": [],
   "source": [
    "with open(\"stations.json\", \"w\") as writer:\n",
    "    json.dump(s, writer)"
   ]
  },
  {
   "cell_type": "code",
   "execution_count": null,
   "metadata": {},
   "outputs": [],
   "source": [
    "with open(\"stations.json\", \"r\") as reader:\n",
    "    data = json.load(reader)"
   ]
  },
  {
   "cell_type": "code",
   "execution_count": null,
   "metadata": {},
   "outputs": [],
   "source": [
    "data['countries'][24]['regions']"
   ]
  },
  {
   "cell_type": "code",
   "execution_count": null,
   "metadata": {},
   "outputs": [],
   "source": [
    "codes = {}\n",
    "n=0\n",
    "for idx, country in enumerate(data['countries']):\n",
    "    for idx2, region in enumerate(country['regions']):\n",
    "        for idx3, settlement in enumerate(region['settlements']):\n",
    "            for idx4, station in enumerate(settlement['stations']):\n",
    "                code = station\n",
    "                try:\n",
    "                    code['codes'] = code['codes']['yandex_code']\n",
    "                except Exception as e:\n",
    "                    print(f\"{type(e)}: {e} [{code['codes']}]\")\n",
    "                    code['codes'] = np.nan\n",
    "                if n%10000 == 0:\n",
    "                    print(code)\n",
    "                codes.update({n:code})\n",
    "                n+=1\n"
   ]
  },
  {
   "cell_type": "code",
   "execution_count": null,
   "metadata": {},
   "outputs": [],
   "source": [
    "codes.keys()"
   ]
  },
  {
   "cell_type": "code",
   "execution_count": null,
   "metadata": {},
   "outputs": [],
   "source": [
    "code_df = pd.DataFrame.from_dict(codes, orient='index')\n",
    "# code_df.loc[code_df.transport_type=='train'].head()\n",
    "code_df.head()"
   ]
  },
  {
   "cell_type": "code",
   "execution_count": null,
   "metadata": {},
   "outputs": [],
   "source": [
    "train_df = code_df.loc[(code_df.transport_type=='train') & (code_df.longitude != \"\")].drop(['direction'], 1)\n",
    "print(train_df.shape)\n",
    "train_df.sample(10)"
   ]
  },
  {
   "cell_type": "code",
   "execution_count": null,
   "metadata": {},
   "outputs": [],
   "source": [
    "train_df.to_csv(\"train.csv\")"
   ]
  },
  {
   "cell_type": "code",
   "execution_count": 5,
   "metadata": {},
   "outputs": [
    {
     "data": {
      "text/plain": [
       "{'error': {'text': 'Не нашли объект по yandex коду 65790',\n",
       "  'error_code': 'v3.0_stable-53-1.8789874.1115953304_29',\n",
       "  'request': 'http://api.rasp.yandex.net/v3.0/search/?apikey=a5b0b768-1a25-447d-a242-01a6495c1831&amp;format=json&amp;from=65790&amp;to=18060&amp;transport_types=train',\n",
       "  'http_code': 404}}"
      ]
     },
     "execution_count": 5,
     "metadata": {},
     "output_type": "execute_result"
    }
   ],
   "source": [
    "\n",
    "\n",
    "S_START, S_END = 's65790', 's18060'\n",
    "API_KEY = \"a5b0b768-1a25-447d-a242-01a6495c1831\"\n",
    "request_txt = f\"https://api.rasp.yandex.net/v3.0/search/?apikey={API_KEY}&format=json&from={S_START}&to={S_END}&transport_types=train\"\n",
    "getpage= requests.get(request_txt)\n",
    "getpage_soup= BeautifulSoup(getpage.text, 'html.parser')\n",
    "json.loads(str(getpage_soup))"
   ]
  },
  {
   "cell_type": "code",
   "execution_count": null,
   "metadata": {},
   "outputs": [],
   "source": []
  }
 ],
 "metadata": {
  "kernelspec": {
   "display_name": "Python 3",
   "language": "python",
   "name": "python3"
  },
  "language_info": {
   "codemirror_mode": {
    "name": "ipython",
    "version": 3
   },
   "file_extension": ".py",
   "mimetype": "text/x-python",
   "name": "python",
   "nbconvert_exporter": "python",
   "pygments_lexer": "ipython3",
   "version": "3.8.5"
  }
 },
 "nbformat": 4,
 "nbformat_minor": 4
}
